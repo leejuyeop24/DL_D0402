{
 "cells": [
  {
   "cell_type": "markdown",
   "metadata": {},
   "source": [
    "#### [ CNN Fashion MNIST MODEL]"
   ]
  },
  {
   "cell_type": "markdown",
   "metadata": {},
   "source": [
    "[1] 모듈 로딩 및 데이터 준비<hr>"
   ]
  },
  {
   "cell_type": "code",
   "execution_count": 1,
   "metadata": {},
   "outputs": [],
   "source": [
    "## 모듈 로딩\n",
    "import torch                                        ## Tensor 및 기본 함수들 관련 모듈\n",
    "import torch.nn as nn                               ## 인공신경망 관련 모듈\n",
    "import torch.nn.functional as F                     ## 인공신경망 관련 함수들 모듈 \n",
    "\n",
    "from torchvision.datasets import FashionMNIST       ## 비젼관련 내장 데이터셋 모듈\n",
    "from torch.utils.data import DataLoader             ## Pytorch의 데이터셋 관련 모듈\n",
    "\n",
    "import torchvision.transforms as transforms         ## 비젼관련 이미지 증강/변환 관련 모듈\n",
    "\n",
    "import matplotlib.pyplot as plt                     ## 이미지 시각화 \n"
   ]
  },
  {
   "cell_type": "code",
   "execution_count": 3,
   "metadata": {},
   "outputs": [],
   "source": [
    "## 이미지 관련 준비\n",
    "IMG_ROOT = '../data/image/'                         ## 이미지 데이터 저장 폴더 경로"
   ]
  },
  {
   "cell_type": "markdown",
   "metadata": {},
   "source": [
    "[2] 데이터 로딩 <hr>"
   ]
  },
  {
   "cell_type": "code",
   "execution_count": 4,
   "metadata": {},
   "outputs": [],
   "source": [
    "trainDS=FashionMNIST(root=IMG_ROOT,\n",
    "                     download=True,\n",
    "                     train=True,\n",
    "                     transform=transforms.ToTensor())"
   ]
  },
  {
   "cell_type": "code",
   "execution_count": 5,
   "metadata": {},
   "outputs": [],
   "source": [
    "testDS=FashionMNIST(root=IMG_ROOT,\n",
    "                     download=True,\n",
    "                     train=False, \n",
    "                     transform=transforms.ToTensor())"
   ]
  },
  {
   "cell_type": "code",
   "execution_count": 6,
   "metadata": {},
   "outputs": [
    {
     "name": "stdout",
     "output_type": "stream",
     "text": [
      "type         : <class 'torchvision.datasets.mnist.FashionMNIST'>\n",
      "\n",
      "classes      : ['T-shirt/top', 'Trouser', 'Pullover', 'Dress', 'Coat', 'Sandal', 'Shirt', 'Sneaker', 'Bag', 'Ankle boot']\n",
      "\n",
      "class_to_idx : {'T-shirt/top': 0, 'Trouser': 1, 'Pullover': 2, 'Dress': 3, 'Coat': 4, 'Sandal': 5, 'Shirt': 6, 'Sneaker': 7, 'Bag': 8, 'Ankle boot': 9}\n",
      "\n"
     ]
    }
   ],
   "source": [
    "## 데이터셋 체크\n",
    "## - 타입\n",
    "print(f'type         : {type(testDS)}\\n')\n",
    "\n",
    "## - 속성 : 클래스 정보\n",
    "print(f'classes      : {testDS.classes}\\n')\n",
    "print(f'class_to_idx : {testDS.class_to_idx}\\n')\n"
   ]
  },
  {
   "cell_type": "code",
   "execution_count": 7,
   "metadata": {},
   "outputs": [
    {
     "name": "stdout",
     "output_type": "stream",
     "text": [
      "targets      : tensor([9, 2, 1,  ..., 8, 1, 5])\n",
      "\n",
      "data         : torch.Size([10000, 28, 28])\n",
      "\n"
     ]
    }
   ],
   "source": [
    "## - 속성 : 데이터와 타겟\n",
    "print(f'targets      : {testDS.targets}\\n')\n",
    "print(f'data         : {testDS.data.shape}\\n')\n"
   ]
  },
  {
   "cell_type": "code",
   "execution_count": 8,
   "metadata": {},
   "outputs": [
    {
     "data": {
      "image/png": "[encoded data removed]",
      "text/plain": [
       "<Figure size 640x480 with 1 Axes>"
      ]
     },
     "metadata": {},
     "output_type": "display_data"
    }
   ],
   "source": [
    "## 이미지 데이터와 타겟 확인\n",
    "idx_to_classes ={v:k for k, v in testDS.class_to_idx.items()}\n",
    "\n",
    "plt.imshow(testDS.data[0], cmap='gray')\n",
    "plt.title(idx_to_classes[testDS.targets[0].item()])\n",
    "plt.show()"
   ]
  },
  {
   "cell_type": "code",
   "execution_count": 9,
   "metadata": {},
   "outputs": [
    {
     "name": "stdout",
     "output_type": "stream",
     "text": [
      "Raw Image Data : 0, 255\n"
     ]
    }
   ],
   "source": [
    "## 로우 데이터 확인\n",
    "print(f'Raw Image Data : {testDS.data[0].min()}, {testDS.data[0].max()}')"
   ]
  },
  {
   "cell_type": "markdown",
   "metadata": {},
   "source": [
    "[3] 모델 정의 및 설계 <hr>"
   ]
  },
  {
   "cell_type": "code",
   "execution_count": 10,
   "metadata": {},
   "outputs": [],
   "source": [
    "## DNN MODEL -----------------------------------------------------------------------\n",
    "## 클래스이름 : FashionDNN\n",
    "## 부모클래스 : nn.Module\n",
    "## 모델구현법 : 지도학습 + 다중 분류 \n",
    "## 모델층 구성  입력피쳐/신호     출력/퍼셉트론수    활성화함수\n",
    "## 입  력  층       784             512             ReLu\n",
    "## 은  닉  층       512             256             ReLu\n",
    "## 은  닉  층       256             130             ReLu\n",
    "## 출  력  층       130             10               X\n",
    "## ----------------------------------84----------------------------------------------\n",
    "class FashionDNN(nn.Module):\n",
    "    def __init__(self):\n",
    "        super().__init__()\n",
    "        self.in_layer   = nn.Flatten()\n",
    "        self.hd_layer1  = nn.Linear(784, 512)\n",
    "        self.drop_layer = nn.Dropout(0.25)\n",
    "        self.hd_layer2  = nn.Linear(512, 256)\n",
    "        self.hd_layer3  = nn.Linear(256, 130)\n",
    "        self.out_layer  = nn.Linear(130, 10)\n",
    "        \n",
    "    ## 순방향 학습 진행 메서드 \n",
    "    def forward(self, data):\n",
    "        ## 3D (BS, H, W) ==> 2D (BS, H*W)\n",
    "        print(f'data shape : {data.shape}')\n",
    "        out = self.in_layer(data)\n",
    "        print(f'out shape : {out.shape}')\n",
    "\n",
    "        out =F.relu(self.hd_layer1(out))\n",
    "        out = self.drop_layer(out)\n",
    "\n",
    "        out =F.relu(self.hd_layer2(out))\n",
    "        out = self.drop_layer(out)\n",
    "\n",
    "        out =F.relu(self.hd_layer3(out))\n",
    "        out = self.out_layer(out)\n",
    "        \n",
    "        print(f'out shape : {out.shape}')\n",
    "        return out"
   ]
  },
  {
   "cell_type": "code",
   "execution_count": 11,
   "metadata": {},
   "outputs": [
    {
     "name": "stdout",
     "output_type": "stream",
     "text": [
      "data shape : torch.Size([100, 28, 28])\n",
      "out shape : torch.Size([100, 784])\n",
      "out shape : torch.Size([100, 10])\n"
     ]
    },
    {
     "data": {
      "text/plain": [
       "==========================================================================================\n",
       "Layer (type:depth-idx)                   Output Shape              Param #\n",
       "==========================================================================================\n",
       "FashionDNN                               [100, 10]                 --\n",
       "├─Flatten: 1-1                           [100, 784]                --\n",
       "├─Linear: 1-2                            [100, 512]                401,920\n",
       "├─Dropout: 1-3                           [100, 512]                --\n",
       "├─Linear: 1-4                            [100, 256]                131,328\n",
       "├─Dropout: 1-5                           [100, 256]                --\n",
       "├─Linear: 1-6                            [100, 130]                33,410\n",
       "├─Linear: 1-7                            [100, 10]                 1,310\n",
       "==========================================================================================\n",
       "Total params: 567,968\n",
       "Trainable params: 567,968\n",
       "Non-trainable params: 0\n",
       "Total mult-adds (M): 56.80\n",
       "==========================================================================================\n",
       "Input size (MB): 0.31\n",
       "Forward/backward pass size (MB): 0.73\n",
       "Params size (MB): 2.27\n",
       "Estimated Total Size (MB): 3.31\n",
       "=========================================================================================="
      ]
     },
     "execution_count": 11,
     "metadata": {},
     "output_type": "execute_result"
    }
   ],
   "source": [
    "## 모델 구조 확인 \n",
    "from torchinfo import summary \n",
    "\n",
    "m1 = FashionDNN()\n",
    "summary(m1, input_size=(100, 28, 28))"
   ]
  },
  {
   "cell_type": "code",
   "execution_count": 12,
   "metadata": {},
   "outputs": [
    {
     "name": "stdout",
     "output_type": "stream",
     "text": [
      "data shape : torch.Size([2, 28, 28])\n",
      "out shape : torch.Size([2, 784])\n",
      "out shape : torch.Size([2, 10])\n"
     ]
    },
    {
     "data": {
      "text/plain": [
       "(tensor([[ -7.4425,   6.9412,  -4.5538,  -8.2950, -13.4516,  -2.1559,   9.8656,\n",
       "           -3.6305,  -5.0619, -12.4136],\n",
       "         [ -9.9866,  11.5438,   2.4364,  -7.1637,  -7.3627,  -3.1741,  12.7201,\n",
       "           -1.9780,   2.3185,  -9.6685]], grad_fn=<AddmmBackward0>),\n",
       " tensor([9, 0]))"
      ]
     },
     "execution_count": 12,
     "metadata": {},
     "output_type": "execute_result"
    }
   ],
   "source": [
    "## DNN모델에 이미지 테스트\n",
    "testImg = trainDS.data[0:2].float()\n",
    "pre=m1(testImg)\n",
    "pre, trainDS.targets[0:2]"
   ]
  },
  {
   "cell_type": "code",
   "execution_count": 13,
   "metadata": {},
   "outputs": [],
   "source": [
    "## CNN MODEL -----------------------------------------------------------------------\n",
    "## 클래스이름 : FashionCNN\n",
    "## 부모클래스 : nn.Module\n",
    "## 모델구현법 : 지도학습 + 다중 분류 \n",
    "## 모델층 구성  \n",
    "## 특징  추출  입력 이미지 주요 특징 추출한 특징맵 FeatureMap\n",
    "## 합성 곱 층  이미지채널/커널수    출력채널/커널수   커널크기  패딩크기   스트라이드  \n",
    "##                 1                1              3        0          1 \n",
    "## 풀  링  층  커널크기,   스트라이드\n",
    "##                2          2\n",
    "## 플  랫  층   --    \n",
    "##\n",
    "## 전결합학습  추출된 FeatureMap으로 학습 진행\n",
    "## 은  닉  층  커널수*높이*너비     출력/퍼셉트론수 \n",
    "##                                   30\n",
    "## 은  닉  층        30               15\n",
    "## 출  력  층        15               10\n",
    "## --------------------------------------------------------------------------------\n",
    "class FashionCNN0(nn.Module):\n",
    "    def __init__(self):\n",
    "        super().__init__()\n",
    "        ## 특징맵 추출 부분\n",
    "        self.con_layer1 = nn.Conv2d(1, 1, 3)     ## (1, 1, 28, 28 )  ==> (1,  1, 26, 26)\n",
    "        self.pool_layer1= nn.MaxPool2d(2, 2)     ## (1, 1, 26, 26 )  ==> (1,  1, 13, 13)\n",
    "        self.flat_layer = nn.Flatten()           ## (1, 1, 13, 13)   ==> (1,  1*13*13)\n",
    "\n",
    "        ## 전결합 학습 부분\n",
    "        self.fc_layer  = nn.Linear(169, 30)     \n",
    "        self.out_layer = nn.Linear(30, 10)\n",
    "\n",
    "\n",
    "    def forward(self, data):\n",
    "        print(f'IN data shape     : {data.shape}')\n",
    "        out = F.relu(self.con_layer1(data))\n",
    "        print(f'con_layer1 shape  : {out.shape}')\n",
    "        out = self.pool_layer1(out)\n",
    "        print(f'pool_layer1 shape : {out.shape}')\n",
    "\n",
    "        out = self.flat_layer(out)\n",
    "        print(f'flatten_layer shape : {out.shape}')\n",
    "        \n",
    "        out =F.relu(self.fc_layer(out))\n",
    "        out = self.out_layer(out)\n",
    "        print(f'out_layer shape : {out.shape}')\n",
    "        return out"
   ]
  },
  {
   "cell_type": "code",
   "execution_count": 14,
   "metadata": {},
   "outputs": [
    {
     "name": "stdout",
     "output_type": "stream",
     "text": [
      "IN data shape     : torch.Size([1, 28, 28])\n",
      "con_layer1 shape  : torch.Size([1, 26, 26])\n",
      "pool_layer1 shape : torch.Size([1, 13, 13])\n",
      "flatten_layer shape : torch.Size([1, 169])\n",
      "out_layer shape : torch.Size([1, 10])\n"
     ]
    },
    {
     "data": {
      "text/plain": [
       "==========================================================================================\n",
       "Layer (type:depth-idx)                   Output Shape              Param #\n",
       "==========================================================================================\n",
       "FashionCNN0                              [1, 10]                   --\n",
       "├─Conv2d: 1-1                            [1, 26, 26]               10\n",
       "├─MaxPool2d: 1-2                         [1, 13, 13]               --\n",
       "├─Flatten: 1-3                           [1, 169]                  --\n",
       "├─Linear: 1-4                            [1, 30]                   5,100\n",
       "├─Linear: 1-5                            [1, 10]                   310\n",
       "==========================================================================================\n",
       "Total params: 5,420\n",
       "Trainable params: 5,420\n",
       "Non-trainable params: 0\n",
       "Total mult-adds (M): 0.01\n",
       "==========================================================================================\n",
       "Input size (MB): 0.00\n",
       "Forward/backward pass size (MB): 0.01\n",
       "Params size (MB): 0.02\n",
       "Estimated Total Size (MB): 0.03\n",
       "=========================================================================================="
      ]
     },
     "execution_count": 14,
     "metadata": {},
     "output_type": "execute_result"
    }
   ],
   "source": [
    "## 모델 설계 및 정의 체크 \n",
    "m1 = FashionCNN0()\n",
    "summary(m1, input_size=(1, 28, 28))"
   ]
  },
  {
   "cell_type": "code",
   "execution_count": null,
   "metadata": {},
   "outputs": [],
   "source": [
    "## CNN MODEL -----------------------------------------------------------------------\n",
    "## 클래스이름 : FashionCNN\n",
    "## 부모클래스 : nn.Module\n",
    "## 모델구현법 : 지도학습 + 다중 분류 \n",
    "## 모델층 구성  입력피쳐/신호     출력/퍼셉트론수    활성화함수\n",
    "## 입  력  층       784             512             ReLu\n",
    "## 은  닉  층       512             256             ReLu\n",
    "## 은  닉  층       256             130             ReLu\n",
    "## 출  력  층       130             10               X\n",
    "## --------------------------------------------------------------------------------\n",
    "class FashionCNN1(nn.Module):\n",
    "    def __init__(self):\n",
    "        super().__init__()\n",
    "        self.con_layer1     = nn.Conv2d(1, 1, 3, padding=1)\n",
    "        self.pool_layer1    = nn.MaxPool2d(2)\n",
    "        self.con_layer2     = nn.Conv2d(1, 1, 3)\n",
    "        self.pool_layer2    = nn.MaxPool2d(2)\n",
    "        self.flatten_layer  = nn.Flatten()\n",
    "        self.fc_layer       = nn.Linear(1*6*6, 30)\n",
    "        self.out_layer      = nn.Linear(30, 10)\n",
    "        \n",
    "\n",
    "    def forward(self, data):\n",
    "        print(f'data shape : {data.shape}')\n",
    "\n",
    "        out = F.relu(self.con_layer1(data))\n",
    "        print(f'1. out shape : {out.shape}')\n",
    "        out = self.pool_layer1(out)\n",
    "        print(f'1-1. out shape : {out.shape}')\n",
    "        \n",
    "        out = F.relu(self.con_layer2(out))\n",
    "        print(f'2. out shape : {out.shape}')\n",
    "        out = self.pool_layer2(out)\n",
    "        print(f'2-1. out shape : {out.shape}')\n",
    "\n",
    "        out = self.flatten_layer(out)\n",
    "        print(f'3. out shape : {out.shape}')\n",
    "        \n",
    "        out =F.relu(self.fc_layer(out))\n",
    "        out = self.out_layer(out)\n",
    "        print(f'out shape : {out.shape}')\n",
    "        return out\n"
   ]
  },
  {
   "cell_type": "code",
   "execution_count": 16,
   "metadata": {},
   "outputs": [
    {
     "name": "stdout",
     "output_type": "stream",
     "text": [
      "data shape : torch.Size([1, 28, 28])\n",
      "1. out shape : torch.Size([1, 28, 28])\n",
      "1-1. out shape : torch.Size([1, 14, 14])\n",
      "2. out shape : torch.Size([1, 12, 12])\n",
      "2-1. out shape : torch.Size([1, 6, 6])\n",
      "3. out shape : torch.Size([1, 36])\n",
      "out shape : torch.Size([1, 10])\n"
     ]
    },
    {
     "data": {
      "text/plain": [
       "==========================================================================================\n",
       "Layer (type:depth-idx)                   Output Shape              Param #\n",
       "==========================================================================================\n",
       "FashionCNN1                              [1, 10]                   --\n",
       "├─Conv2d: 1-1                            [1, 28, 28]               10\n",
       "├─MaxPool2d: 1-2                         [1, 14, 14]               --\n",
       "├─Conv2d: 1-3                            [1, 12, 12]               10\n",
       "├─MaxPool2d: 1-4                         [1, 6, 6]                 --\n",
       "├─Flatten: 1-5                           [1, 36]                   --\n",
       "├─Linear: 1-6                            [1, 30]                   1,110\n",
       "├─Linear: 1-7                            [1, 10]                   310\n",
       "==========================================================================================\n",
       "Total params: 1,440\n",
       "Trainable params: 1,440\n",
       "Non-trainable params: 0\n",
       "Total mult-adds (M): 0.00\n",
       "==========================================================================================\n",
       "Input size (MB): 0.00\n",
       "Forward/backward pass size (MB): 0.01\n",
       "Params size (MB): 0.01\n",
       "Estimated Total Size (MB): 0.02\n",
       "=========================================================================================="
      ]
     },
     "execution_count": 16,
     "metadata": {},
     "output_type": "execute_result"
    }
   ],
   "source": [
    "## 모델 설계 및 정의 체크 \n",
    "m1 = FashionCNN1()\n",
    "summary(m1, input_size=(1, 28, 28))"
   ]
  },
  {
   "cell_type": "code",
   "execution_count": 17,
   "metadata": {},
   "outputs": [
    {
     "name": "stdout",
     "output_type": "stream",
     "text": [
      "torch.Size([1, 28, 28]) 9\n",
      "data shape : torch.Size([1, 28, 28])\n",
      "1. out shape : torch.Size([1, 28, 28])\n",
      "1-1. out shape : torch.Size([1, 14, 14])\n",
      "2. out shape : torch.Size([1, 12, 12])\n",
      "2-1. out shape : torch.Size([1, 6, 6])\n",
      "3. out shape : torch.Size([1, 36])\n",
      "out shape : torch.Size([1, 10])\n",
      "tensor([[-0.1069,  0.1041,  0.0891, -0.0071,  0.0448, -0.1591, -0.1054, -0.0290,\n",
      "          0.0695, -0.1345]], grad_fn=<AddmmBackward0>) 9\n"
     ]
    }
   ],
   "source": [
    "## 모델 이미지 적용 후 체크\n",
    "for img, target in testDS:\n",
    "    print(img.shape, target)\n",
    "    pre = m1(img)\n",
    "    print(pre, target)\n",
    "    break"
   ]
  }
 ],
 "metadata": {
  "kernelspec": {
   "display_name": "DL_TORCH",
   "language": "python",
   "name": "python3"
  },
  "language_info": {
   "codemirror_mode": {
    "name": "ipython",
    "version": 3
   },
   "file_extension": ".py",
   "mimetype": "text/x-python",
   "name": "python",
   "nbconvert_exporter": "python",
   "pygments_lexer": "ipython3",
   "version": "3.9.21"
  }
 },
 "nbformat": 4,
 "nbformat_minor": 2
}
