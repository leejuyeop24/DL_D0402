{
 "cells": [
  {
   "cell_type": "markdown",
   "metadata": {},
   "source": [
    "#### [ Cat & Dog Classification ]"
   ]
  },
  {
   "cell_type": "markdown",
   "metadata": {},
   "source": [
    "- 커스텀데이터셋 생성 => ImageFolder : 사용자 정의 이미지 데이터셋 생성 \n",
    "- 훈련 & 검증셋 분리 => random_split : 훈련/검증 데이터 랜덤 비율 분리\n",
    "- 모델 & 가중치 저장 => save()/state_dict(), load()/load_state_dict()"
   ]
  },
  {
   "cell_type": "markdown",
   "metadata": {},
   "source": [
    "[1] 모듈 로딩 및 데이터 준비 <hr>"
   ]
  },
  {
   "cell_type": "code",
   "execution_count": 2,
   "metadata": {},
   "outputs": [],
   "source": [
    "## 모듈 로딩 \n",
    "import torch                                            ## 텐서 및 기본 함수들 모듈\n",
    "import torch.nn as nn                                   ## 인공신경망 관련 모듈\n",
    "import torch.nn.functional as F                         ## 인공신경망 관련 함수들 모듈\n",
    "import torch.optim as optim                             ## 인공신경망 관련 최적화 모듈\n",
    "from torch.optim.lr_scheduler import ReduceLROnPlateau  ## 학습률 조정 \n",
    "\n",
    "from torchinfo import summary                           ## 모델 정보 및 구조 확인 모듈\n",
    "from torchmetrics.classification import *               ## 모델 성능 지표 관련 모듈\n",
    "\n",
    "from torchvision.datasets import ImageFolder            ## 이미지용 데이터셋 생성 모듈\n",
    "from torch.utils.data import DataLoader                 ## 데이터 셋 관련 모듈\n",
    "from torch.utils.data import Subset, random_split       \n",
    "from torchvision.transforms import transforms           ## 이미지 전처리 및 증강 모듈\n",
    "\n",
    "import matplotlib.pyplot as plt                         ## 이미지 시각화 "
   ]
  },
  {
   "cell_type": "code",
   "execution_count": 3,
   "metadata": {},
   "outputs": [],
   "source": [
    "## 데이터 준비\n",
    "IMG_ROOT ='../data/image/cat_dog/'"
   ]
  },
  {
   "cell_type": "markdown",
   "metadata": {},
   "source": [
    "[2] 데이터 로딩 및 데이터셋 준비 <hr>"
   ]
  },
  {
   "cell_type": "markdown",
   "metadata": {},
   "source": [
    "- [2-1] 이미지 데이터 전처리용 인스턴스 생성"
   ]
  },
  {
   "cell_type": "code",
   "execution_count": 4,
   "metadata": {},
   "outputs": [],
   "source": [
    "## [2-1] 이미지 전처리 및 변형 \n",
    "## - resize   => 이미지 크기 통일             ==> transforms.Resize((shape))\n",
    "## - tensor화 => Pytorch 모델 입력 타입 변환  ==> transforms.ToTensor() \n",
    "##                                             텐서화 + (C, H, W) 변경 + 정규화(0.~1.)\n",
    "preprocessing = transforms.Compose(\n",
    "    [\n",
    "        transforms.Resize((100,100)),           ## 크기 조정\n",
    "        transforms.RandomHorizontalFlip(0.5),   ## 50% 랜덤 수평/좌우 뒤집기\n",
    "        transforms.ToTensor()                   ## (H,W,C) => (C, H, W) + 정규화 + 텐서화\n",
    "    ]\n",
    ")\n"
   ]
  },
  {
   "cell_type": "markdown",
   "metadata": {},
   "source": [
    "- [2-2] 이미지 데이터 로딩 "
   ]
  },
  {
   "cell_type": "code",
   "execution_count": 5,
   "metadata": {},
   "outputs": [
    {
     "name": "stdout",
     "output_type": "stream",
     "text": [
      "IDX_TO_CLASS => {0: 'cat', 1: 'dog'}\n"
     ]
    }
   ],
   "source": [
    "## - 이미지 데이터 로딩 \n",
    "imgDS = ImageFolder(root=IMG_ROOT, \n",
    "                    transform=preprocessing)\n",
    "\n",
    "## - 클래스 변환 데이터 \n",
    "IDX_TO_CLASS = {v:k for k, v in imgDS.class_to_idx.items()}\n",
    "print(f'IDX_TO_CLASS => {IDX_TO_CLASS}')"
   ]
  },
  {
   "cell_type": "code",
   "execution_count": 6,
   "metadata": {},
   "outputs": [
    {
     "name": "stdout",
     "output_type": "stream",
     "text": [
      "imgDataset 개수 : 143개\n",
      "imgDataset 분류 : {'cat': 0, 'dog': 1}\n",
      "- cat      개수 : 62개, 43.35664335664335\n",
      "- dog      개수 : 81개, 56.64335664335665\n"
     ]
    }
   ],
   "source": [
    "## - 데이터 확인\n",
    "print(f'imgDataset 개수 : {len(imgDS.targets)}개')\n",
    "print(f'imgDataset 분류 : {imgDS.class_to_idx}')\n",
    "print(f'- cat      개수 : {imgDS.targets.count(0)}개, {(imgDS.targets.count(0)/len(imgDS.targets))*100}')\n",
    "print(f'- dog      개수 : {imgDS.targets.count(1)}개, {(imgDS.targets.count(1)/len(imgDS.targets))*100}')"
   ]
  },
  {
   "cell_type": "markdown",
   "metadata": {},
   "source": [
    "- [2-3] 훈련용/검증용/테스트용 데이터셋 분리 => 훈련용:검증용:테스트용 = 80:10:10"
   ]
  },
  {
   "cell_type": "code",
   "execution_count": 7,
   "metadata": {},
   "outputs": [],
   "source": [
    "## 방법 1) 일반적인 분리\n",
    "## -------(1) 훈련용:검증용:테스트용 데이터 개수 설정\n",
    "dataset_size = len(imgDS)\n",
    "train_size = int(dataset_size * 0.8)\n",
    "valid_size = int(dataset_size * 0.1)\n",
    "test_size  = dataset_size - train_size - valid_size\n",
    "\n",
    "## -------(2) 훈련용/검증용/테스트용\n",
    "trainDS, validDS, testDS= random_split(imgDS, \n",
    "                                       [train_size, valid_size, test_size], \n",
    "                                       generator=torch.Generator().manual_seed(42))\n"
   ]
  },
  {
   "cell_type": "code",
   "execution_count": 8,
   "metadata": {},
   "outputs": [
    {
     "name": "stdout",
     "output_type": "stream",
     "text": [
      "\n",
      "[Train 전체 데이터셋 개수 : 114개\n",
      "        - cat      개수 : 51개 44.74\n",
      "        - dog      개수 : 63개 55.26\n",
      "\n",
      "[Valid 전체 데이터셋 개수 : 14개\n",
      "        - cat      개수 : 08개 57.14\n",
      "        - dog      개수 : 06개 42.86\n",
      "\n",
      "[Test 전체 데이터셋 개수 : 15개\n",
      "        - cat      개수 : 03개 20.00\n",
      "        - dog      개수 : 12개 80.00\n"
     ]
    }
   ],
   "source": [
    "## -------(3) 분리 데이터셋의 클래스 비율 체크\n",
    "for kind, indices in zip(['Train', 'Valid', 'Test'], [trainDS.indices, validDS.indices, testDS.indices]):\n",
    "    targets = [ imgDS.targets[ idx ] for idx in indices ]\n",
    "    print(f'\\n[{kind} 전체 데이터셋 개수 : {len(targets)}개')\n",
    "    print(f'        - cat      개수 : {targets.count(0):02}개 {(targets.count(0)/len(targets))*100:.2f}')\n",
    "    print(f'        - dog      개수 : {targets.count(1):02}개 {(targets.count(1)/len(targets))*100:.2f}')"
   ]
  },
  {
   "cell_type": "code",
   "execution_count": 9,
   "metadata": {},
   "outputs": [
    {
     "name": "stdout",
     "output_type": "stream",
     "text": [
      "[전체 데이터 수 체크 ] 143 143\n",
      "\n",
      "[Train 전체 데이터셋 개수 : 114개\n",
      "        - cat      개수 : 49개 42.98\n",
      "        - dog      개수 : 65개 57.02\n",
      "\n",
      "[Valid 전체 데이터셋 개수 : 14개\n",
      "        - cat      개수 : 06개 42.86\n",
      "        - dog      개수 : 08개 57.14\n",
      "\n",
      "[Test 전체 데이터셋 개수 : 15개\n",
      "        - cat      개수 : 07개 46.67\n",
      "        - dog      개수 : 08개 53.33\n"
     ]
    }
   ],
   "source": [
    "## 방법 2) 층화 샘플링(stratified sampling)\n",
    "\n",
    "## -------(1) 비율 기준 설정\n",
    "## 모듈 로딩\n",
    "from sklearn.model_selection import train_test_split  \n",
    "\n",
    "## 전체 데이터 수 체크\n",
    "print('[전체 데이터 수 체크 ]', len(imgDS.imgs), len(imgDS.targets))\n",
    "\n",
    "## 비율 기준 설정\n",
    "targets = imgDS.targets\n",
    "\n",
    "## -------(2) 훈련용:검증용:테스트용 데이터 인덱스 추출\n",
    "## 1단계: 학습용과 검증용 데이터셋 분리\n",
    "train_indices, valid_indices = train_test_split(range(len(imgDS.targets)),\n",
    "                                                test_size=0.2, random_state=42, \n",
    "                                                stratify=targets)\n",
    "\n",
    "## 2단계: 검증용 데이터셋을 테스트용 데이터셋 분리\n",
    "targets = [ targets[index] for index in valid_indices ]\n",
    "valid_indices, test_indices= train_test_split( valid_indices,\n",
    "                                               test_size=0.5, random_state=42, \n",
    "                                               stratify=targets)\n",
    "\n",
    "## -------(3) 훈련용:검증용:테스트용 데이터셋 생성\n",
    "trainDS = Subset(imgDS, train_indices)\n",
    "validDS = Subset(imgDS, valid_indices)\n",
    "testDS = Subset(imgDS, test_indices)\n",
    "\n",
    "## -------(4) 분리 데이터셋의 클래스 비율 체크\n",
    "for kind, indices in zip(['Train','Valid','Test'], [trainDS.indices, validDS.indices, testDS.indices]):\n",
    "    targets = [ imgDS.targets[ idx ] for idx in indices ]\n",
    "    print(f'\\n[{kind} 전체 데이터셋 개수 : {len(targets)}개')\n",
    "    print(f'        - cat      개수 : {targets.count(0):02}개 {(targets.count(0)/len(targets))*100:.2f}')\n",
    "    print(f'        - dog      개수 : {targets.count(1):02}개 {(targets.count(1)/len(targets))*100:.2f}')"
   ]
  },
  {
   "cell_type": "markdown",
   "metadata": {},
   "source": [
    "[3] 데이터 로더 준비<hr>"
   ]
  },
  {
   "cell_type": "markdown",
   "metadata": {},
   "source": [
    "- [3-1] 데이터 로더 생성"
   ]
  },
  {
   "cell_type": "code",
   "execution_count": 10,
   "metadata": {},
   "outputs": [],
   "source": [
    "## - 훈련용/검증용/테스트용 데이터 로더 생성\n",
    "trainDL = DataLoader(trainDS, \n",
    "                     shuffle=True, \n",
    "                     generator=torch.Generator().manual_seed(42))\n",
    "validDL = DataLoader(validDS, shuffle=False)\n",
    "testDL  = DataLoader(testDS,  shuffle=False)\n"
   ]
  },
  {
   "cell_type": "code",
   "execution_count": 11,
   "metadata": {},
   "outputs": [
    {
     "name": "stdout",
     "output_type": "stream",
     "text": [
      "tensor([[0.8823, 0.9150],\n",
      "        [0.3829, 0.9593]])\n",
      "tensor([[0.8823, 0.9150],\n",
      "        [0.3829, 0.9593]])\n"
     ]
    }
   ],
   "source": [
    "import torch\n",
    "\n",
    "# 전체 PyTorch 난수 생성기 시드 설정, 전역적으로 모든 랜덤 생성기의 시드를 설정 즉, PyTorch의 모든 연산에 영향\n",
    "torch.manual_seed(42)\n",
    "print(torch.rand(2, 2))  # 동일한 난수 생성\n",
    "\n",
    "# 별도의 난수 생성기 생성 즉, 특정 generator의 시드 설정, 특정 Generator 객체에만 영향\n",
    "# 여러 개의 난수 생성기를 독립적으로 사용할 때 유용\n",
    "# 다른 생성기나 PyTorch 전역 난수 생성기에는 영향을 주지 않음\n",
    "# 예) 여러 개의 난수 생성기를 사용하여 서로 다른 연산에 대한 난수를 각각 제어하고 싶을 때 사용\n",
    "\n",
    "generator = torch.Generator().manual_seed(42)\n",
    "print(torch.rand(2, 2, generator=generator))  # 동일한 난수 생성\n"
   ]
  },
  {
   "cell_type": "code",
   "execution_count": 12,
   "metadata": {},
   "outputs": [
    {
     "name": "stdout",
     "output_type": "stream",
     "text": [
      "torch.Size([1, 3, 100, 100]) tensor([1]) dog\n"
     ]
    },
    {
     "data": {
      "image/png": "[encoded data removed]",
      "text/plain": [
       "<Figure size 640x480 with 1 Axes>"
      ]
     },
     "metadata": {},
     "output_type": "display_data"
    }
   ],
   "source": [
    "## 체크\n",
    "img, target = next(iter(trainDL))\n",
    "print(img.shape, target, IDX_TO_CLASS[target.item()])\n",
    "plt.imshow(img[0].permute(1,2,0))\n",
    "plt.title(IDX_TO_CLASS[target.item()])\n",
    "plt.show()\n"
   ]
  },
  {
   "cell_type": "markdown",
   "metadata": {},
   "source": [
    "(1) 데이터 준비 및 모듈 로딩"
   ]
  },
  {
   "cell_type": "code",
   "execution_count": 13,
   "metadata": {},
   "outputs": [],
   "source": [
    "from torchvision import transforms as tf\n",
    "from torchvision.datasets import ImageFolder"
   ]
  },
  {
   "cell_type": "code",
   "execution_count": 14,
   "metadata": {},
   "outputs": [],
   "source": [
    "# 각종 LIB 충돌 방지를 위한 환경 설정\n",
    "import os\n",
    "os.environ['KMP_DUPLICATE_LIB_OK']='True'"
   ]
  },
  {
   "cell_type": "code",
   "execution_count": 15,
   "metadata": {},
   "outputs": [],
   "source": [
    "IMG_DIR = '../data/image/cat_dog/dog/'\n",
    "RPS_DIR = '../data/rps/'"
   ]
  },
  {
   "cell_type": "code",
   "execution_count": null,
   "metadata": {},
   "outputs": [],
   "source": [
    "## 이미지 데이터 저장\n",
    "from PIL import Image\n",
    "\n",
    "img = Image.open(IMG_DIR+'dog')"
   ]
  },
  {
   "cell_type": "code",
   "execution_count": null,
   "metadata": {},
   "outputs": [],
   "source": [
    "if MIN_LOS"
   ]
  },
  {
   "cell_type": "code",
   "execution_count": null,
   "metadata": {},
   "outputs": [],
   "source": [
    "## 모델 로딩 \n",
    "model = torch.load(MODEL_DIR + MODEL_FILE, weights_only=True)\n",
    "model"
   ]
  },
  {
   "cell_type": "code",
   "execution_count": null,
   "metadata": {},
   "outputs": [],
   "source": []
  }
 ],
 "metadata": {
  "kernelspec": {
   "display_name": "DL_TORCH",
   "language": "python",
   "name": "python3"
  },
  "language_info": {
   "codemirror_mode": {
    "name": "ipython",
    "version": 3
   },
   "file_extension": ".py",
   "mimetype": "text/x-python",
   "name": "python",
   "nbconvert_exporter": "python",
   "pygments_lexer": "ipython3",
   "version": "3.9.21"
  }
 },
 "nbformat": 4,
 "nbformat_minor": 2
}
