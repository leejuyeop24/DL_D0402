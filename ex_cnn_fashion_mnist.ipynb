{
 "cells": [
  {
   "cell_type": "markdown",
   "metadata": {},
   "source": [
    "#### [CNN Fashion MNIST MODEL]"
   ]
  },
  {
   "cell_type": "markdown",
   "metadata": {},
   "source": [
    "[1] 모듈 로딩 및 데이터 준비 <hr>"
   ]
  },
  {
   "cell_type": "code",
   "execution_count": 21,
   "metadata": {},
   "outputs": [],
   "source": [
    "## 모듈 로딩\n",
    "import torch\t\t\t\t\t\t\t\t\t## Tensor 및 기본 함수들 관련 모듈\n",
    "import torch.nn as nn\t\t\t\t\t\t\t## 인공신경망 관련 모듈\n",
    "import torch.nn.functional as F                 ## 인공신경망 관련 함수들\n",
    "\n",
    "from torchvision.datasets import FashionMNIST\t## 비전관련 내장 데이터셋 모듈\n",
    "from torch.utils.data import DataLoader\t\t\t## Pytorch의 데이터셋 관련 모듈\n",
    "\n",
    "import torchvision.transforms as transforms\t\t## 비전관련 이미지 증상/변환 관련 모듈\n",
    "\n",
    "import matplotlib.pyplot as plt\t\t\t\t\t## 이미지 시각화"
   ]
  },
  {
   "cell_type": "code",
   "execution_count": 22,
   "metadata": {},
   "outputs": [],
   "source": [
    "## 이미지 관련 준비\n",
    "IMG_ROOT = '../data/image/'\t\t\t\t\t\t\t## 이미지 데이터 저장 폴더 경로"
   ]
  },
  {
   "cell_type": "markdown",
   "metadata": {},
   "source": [
    "[2] 데이터 로딩 <hr>"
   ]
  },
  {
   "cell_type": "code",
   "execution_count": 23,
   "metadata": {},
   "outputs": [],
   "source": [
    "trainDS = FashionMNIST(root=IMG_ROOT,\n",
    "\t\t\t download=True,\n",
    "\t\t\t train=True,\n",
    "\t\t\t transform=transforms.ToTensor())"
   ]
  },
  {
   "cell_type": "code",
   "execution_count": 24,
   "metadata": {},
   "outputs": [],
   "source": [
    "testDS = FashionMNIST(root=IMG_ROOT,\n",
    "\t\t\t download=True,\n",
    "\t\t\t train=False,\n",
    "\t\t\t transform=transforms.ToTensor())"
   ]
  },
  {
   "cell_type": "code",
   "execution_count": 25,
   "metadata": {},
   "outputs": [
    {
     "name": "stdout",
     "output_type": "stream",
     "text": [
      "type\t\t : <class 'torchvision.datasets.mnist.FashionMNIST'>\n",
      "\n",
      "classes\t\t : ['T-shirt/top', 'Trouser', 'Pullover', 'Dress', 'Coat', 'Sandal', 'Shirt', 'Sneaker', 'Bag', 'Ankle boot']\n",
      "\n",
      "class_to_idx : {'T-shirt/top': 0, 'Trouser': 1, 'Pullover': 2, 'Dress': 3, 'Coat': 4, 'Sandal': 5, 'Shirt': 6, 'Sneaker': 7, 'Bag': 8, 'Ankle boot': 9}\n"
     ]
    }
   ],
   "source": [
    "## 데이터셋 체크\n",
    "## - 타입\n",
    "print(f'type\t\t : {type(testDS)}\\n')\n",
    "\n",
    "## - 속성 : 클래스 정보\n",
    "print(f'classes\t\t : {testDS.classes}\\n')\n",
    "print(f'class_to_idx : {testDS.class_to_idx}')"
   ]
  },
  {
   "cell_type": "code",
   "execution_count": 26,
   "metadata": {},
   "outputs": [
    {
     "name": "stdout",
     "output_type": "stream",
     "text": [
      "targets\t\t: tensor([9, 2, 1,  ..., 8, 1, 5])\n",
      "\n",
      "data\t\t: torch.Size([10000, 28, 28])\n",
      "\n"
     ]
    }
   ],
   "source": [
    "## - 속성 : 데이터와 타겟\n",
    "print(f'targets\t\t: {testDS.targets}\\n')\n",
    "print(f'data\t\t: {testDS.data.shape}\\n')"
   ]
  },
  {
   "cell_type": "code",
   "execution_count": 27,
   "metadata": {},
   "outputs": [
    {
     "data": {
      "image/png": "[encoded data removed]",
      "text/plain": [
       "<Figure size 640x480 with 1 Axes>"
      ]
     },
     "metadata": {},
     "output_type": "display_data"
    }
   ],
   "source": [
    "## 이미지 데이터와 타겟 확인\n",
    "idx_to_classes = {v:k for k, v in testDS.class_to_idx.items()}\n",
    "\n",
    "plt.imshow(testDS.data[0], cmap='gray')\n",
    "plt.title(idx_to_classes[testDS.targets[0].item()])\n",
    "plt.show()"
   ]
  },
  {
   "cell_type": "code",
   "execution_count": 28,
   "metadata": {},
   "outputs": [
    {
     "name": "stdout",
     "output_type": "stream",
     "text": [
      "Raw Image Data : 0, 255\n"
     ]
    }
   ],
   "source": [
    "## 로우 데이터 확인\n",
    "print(f'Raw Image Data : {testDS.data[0].min()}, {testDS.data[0].max()}')"
   ]
  },
  {
   "cell_type": "markdown",
   "metadata": {},
   "source": [
    "[3] 모델 정의 및 설계 <hr>"
   ]
  },
  {
   "cell_type": "code",
   "execution_count": 54,
   "metadata": {},
   "outputs": [],
   "source": [
    "# 모델 클래스 설계 ----------------------------------------------------------------------\n",
    "## 회귀용 커스텀 모델 \n",
    "## 클래스이름 : FashionDNN\n",
    "## 부모클래스 : nn.Module\n",
    "## 모델층구성   입력신호/피쳐수       출력신호수/퍼셉트론수       활성화함수\n",
    "## - 입력층  :     784                     300                 ReLu\n",
    "## - 은닉층  :     300                     100                 ReLu \n",
    "## - 출력층  :     100                      10                 Softmax => 손실함수 내 포함\n",
    "## - -----------------------------------------------------------------------------------\n",
    "class FashionDNN(nn.Module):\n",
    "    def __init__(self):\n",
    "        super(FashionDNN, self).__init__()\n",
    "        self.fc1 = nn.Linear(in_features=784, out_features=300)\n",
    "        self.fc2 = nn.Linear(in_features=300, out_features=100)\n",
    "        self.fc3 = nn.Linear(in_features=100, out_features=10)\n",
    "        self.dropout = nn.Dropout(p=0.25)  # 선택적: 과적합 방지용\n",
    "\n",
    "    def forward(self, input_data):\n",
    "        print(f'input_data shape : {input_data.shape}')  # [batch, 28, 28]\n",
    "        out = input_data.view(-1, 784)  # Flatten\n",
    "        out = F.relu(self.fc1(out))\n",
    "        out = self.dropout(out)\n",
    "        print(f'1. out shape : {out.shape}')  # [batch, 300]\n",
    "        \n",
    "        out = F.relu(self.fc2(out))\n",
    "        print(f'2. out shape : {out.shape}')  # [batch, 100]\n",
    "\n",
    "        out = self.fc3(out)\n",
    "        print(f'3. out shape : {out.shape}')  # [batch, 10]\n",
    "        return out"
   ]
  },
  {
   "cell_type": "code",
   "execution_count": 55,
   "metadata": {},
   "outputs": [],
   "source": [
    "m1 = FashionDNN()"
   ]
  },
  {
   "cell_type": "code",
   "execution_count": 56,
   "metadata": {},
   "outputs": [
    {
     "name": "stdout",
     "output_type": "stream",
     "text": [
      "input_data shape : torch.Size([2, 28, 28])\n",
      "1. out shape : torch.Size([2, 300])\n",
      "2. out shape : torch.Size([2, 100])\n",
      "3. out shape : torch.Size([2, 10])\n"
     ]
    },
    {
     "data": {
      "text/plain": [
       "(tensor([[  0.7843,  11.8864,  -3.5083,  30.1141,   3.4936, -24.0925,  21.3682,\n",
       "           -9.8703,  -8.6447,  13.6415],\n",
       "         [-21.2672,   7.7556,  -2.0779,  13.4810,  -5.6687,  11.4206,  14.9810,\n",
       "           15.3254,  19.0366,  26.0148]], grad_fn=<AddmmBackward0>),\n",
       " tensor([9, 0]))"
      ]
     },
     "execution_count": 56,
     "metadata": {},
     "output_type": "execute_result"
    }
   ],
   "source": [
    "## DNN모델에 이미지 테스트\n",
    "testImg = trainDS.data[0:2].float()\n",
    "pre=m1(testImg)\n",
    "pre, trainDS.targets[0:2]"
   ]
  },
  {
   "cell_type": "code",
   "execution_count": null,
   "metadata": {},
   "outputs": [],
   "source": [
    "## 모델 이미지 적용 후 "
   ]
  },
  {
   "cell_type": "code",
   "execution_count": null,
   "metadata": {},
   "outputs": [],
   "source": [
    "# 모델 클래스 설계 ----------------------------------------------------------------------\n",
    "## 회귀용 커스텀 모델 \n",
    "## 클래스이름 : FashionCNN\n",
    "## 부모클래스 : nn.Module\n",
    "## 모델층구성   입력신호/피쳐수       출력신호수/퍼셉트론수       활성화함수\n",
    "## - 입력층  :     784                     300                 ReLu\n",
    "## - 은닉층  :     300                     100                 ReLu \n",
    "## - 출력층  :     100                      10                 Softmax => 손실함수 내 포함\n",
    "## - -----------------------------------------------------------------------------------\n",
    "class FashionCNN(nn.Module):\n",
    "\tdef __init__(self):\n",
    "\t\tsuper(FashionCNN, self).__init__()\n",
    "\t\t## 특징맵 추출 부분\n",
    "\t\tself.con_layer1 = nn.Conv2d(1, 1, 3)\t## ( 1, 28, 28) ==> ( 1, 26, 26)\n",
    "\t\tself.fool_layer1 = nn.MaxPool2d(2, 2)\t## ( 1, 26, 26) ==> ( 1, 13, 13)\n",
    "\t\tself.flat_layer1 = nn.Flatten()\t\t\t## ( 1, 13, 13) ==> ( 1, 1*13*13)\n",
    "\n",
    "\t\t## 전결합 학습 부분\n",
    "\t\tself.fc_layer1 = nn.Linear(169, 30)\n",
    "\t\tself.out_layer = nn.Linear(30, 10)"
   ]
  },
  {
   "cell_type": "code",
   "execution_count": 39,
   "metadata": {},
   "outputs": [],
   "source": [
    "m2 = FashionCNN()"
   ]
  },
  {
   "cell_type": "code",
   "execution_count": 41,
   "metadata": {},
   "outputs": [
    {
     "name": "stderr",
     "output_type": "stream",
     "text": [
      "c:\\Users\\KDP-35\\anaconda3\\envs\\DL_TORCH\\lib\\site-packages\\torch\\nn\\functional.py:1374: UserWarning: dropout2d: Received a 2-D input to dropout2d, which is deprecated and will result in an error in a future release. To retain the behavior and silence this warning, please use dropout instead. Note that dropout2d exists to provide channel-wise dropout on inputs with 2 spatial dimensions, a channel dimension, and an optional batch dimension (i.e. 3D or 4D inputs).\n",
      "  warnings.warn(warn_msg)\n"
     ]
    },
    {
     "data": {
      "text/plain": [
       "(tensor([[-0.4587,  0.0415,  0.1785,  0.2803,  0.0050,  0.2099,  0.3089, -0.3083,\n",
       "          -0.2112, -0.1621],\n",
       "         [-0.4675,  0.0695, -0.0703, -0.4119,  0.2742,  0.0220, -0.1120, -0.0570,\n",
       "          -0.0387,  0.5199]], grad_fn=<AddmmBackward0>),\n",
       " tensor([9, 0]))"
      ]
     },
     "execution_count": 41,
     "metadata": {},
     "output_type": "execute_result"
    }
   ],
   "source": [
    "## CNN모델에 이미지 테스트\n",
    "testImg2 = trainDS.data[0:2].unsqueeze(1).float()\n",
    "pre=m2(testImg2)\n",
    "pre, trainDS.targets[0:2]"
   ]
  },
  {
   "cell_type": "markdown",
   "metadata": {},
   "source": [
    "[4] 학습 준비 <hr>"
   ]
  },
  {
   "cell_type": "code",
   "execution_count": 33,
   "metadata": {},
   "outputs": [
    {
     "name": "stdout",
     "output_type": "stream",
     "text": [
      "EPOCHS:10, BATCH_SIZE:100, T_ITERATION:600\n"
     ]
    }
   ],
   "source": [
    "## 학습 관련 설정\n",
    "EPOCHS = 10\n",
    "BATCH_SIZE = 100\n",
    "T_ITERATION = int(trainDS.data.shape[0]/BATCH_SIZE)\n",
    "LR = 0.001\n",
    "DEVICE = 'gpu' if torch.cuda.is_available() else 'cpu'\n",
    "\n",
    "print(f'EPOCHS:{EPOCHS}, BATCH_SIZE:{BATCH_SIZE}, T_ITERATION:{T_ITERATION}')"
   ]
  },
  {
   "cell_type": "code",
   "execution_count": 34,
   "metadata": {},
   "outputs": [
    {
     "name": "stdout",
     "output_type": "stream",
     "text": [
      "FashionCNN(\n",
      "  (layer1): Sequential(\n",
      "    (0): Conv2d(1, 32, kernel_size=(3, 3), stride=(1, 1), padding=(1, 1))\n",
      "    (1): BatchNorm2d(32, eps=1e-05, momentum=0.1, affine=True, track_running_stats=True)\n",
      "    (2): ReLU()\n",
      "    (3): MaxPool2d(kernel_size=2, stride=2, padding=0, dilation=1, ceil_mode=False)\n",
      "  )\n",
      "  (layer2): Sequential(\n",
      "    (0): Conv2d(32, 64, kernel_size=(3, 3), stride=(1, 1))\n",
      "    (1): BatchNorm2d(64, eps=1e-05, momentum=0.1, affine=True, track_running_stats=True)\n",
      "    (2): ReLU()\n",
      "    (3): MaxPool2d(kernel_size=2, stride=2, padding=0, dilation=1, ceil_mode=False)\n",
      "  )\n",
      "  (fc1): Linear(in_features=2304, out_features=600, bias=True)\n",
      "  (drop): Dropout2d(p=0.25, inplace=False)\n",
      "  (fc2): Linear(in_features=600, out_features=100, bias=True)\n",
      "  (fc3): Linear(in_features=100, out_features=10, bias=True)\n",
      ")\n"
     ]
    }
   ],
   "source": [
    "learning_rate = 0.001\n",
    "model = FashionCNN()\n",
    "model.to(DEVICE)\n",
    "\n",
    "criterion = nn.CrossEntropyLoss()\n",
    "optimizer = torch.optim.Adam(model.parameters(), lr=learning_rate)\n",
    "print(model)"
   ]
  },
  {
   "cell_type": "code",
   "execution_count": null,
   "metadata": {},
   "outputs": [],
   "source": []
  }
 ],
 "metadata": {
  "kernelspec": {
   "display_name": "DL_TORCH",
   "language": "python",
   "name": "python3"
  },
  "language_info": {
   "codemirror_mode": {
    "name": "ipython",
    "version": 3
   },
   "file_extension": ".py",
   "mimetype": "text/x-python",
   "name": "python",
   "nbconvert_exporter": "python",
   "pygments_lexer": "ipython3",
   "version": "3.9.21"
  }
 },
 "nbformat": 4,
 "nbformat_minor": 2
}
